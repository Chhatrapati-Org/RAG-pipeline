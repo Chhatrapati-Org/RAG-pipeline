{
 "cells": [
  {
   "cell_type": "code",
   "execution_count": 18,
   "id": "42cdb2e3",
   "metadata": {},
   "outputs": [],
   "source": [
    "import os \n",
    "from nltk.tokenize import sent_tokenize \n",
    "from typing import List, Tuple, Dict, Any, Optional, Generator\n",
    "from langchain_community.utils.math import cosine_similarity\n",
    "from rag.pipeline import SharedEmbeddingModel\n",
    "from natsort import natsorted\n",
    "import time"
   ]
  },
  {
   "cell_type": "code",
   "execution_count": 19,
   "id": "cfa4d77c",
   "metadata": {},
   "outputs": [],
   "source": [
    "def lazy_read(file_handle, chunk_size_kb=4):\n",
    "    \"\"\"\n",
    "    Generator that yields chunks of specified size from an open file.\n",
    "    \n",
    "    Args:\n",
    "        file_handle: Open file object in read mode\n",
    "        chunk_size_kb: Size of each chunk in KB (default: 4KB)\n",
    "    \n",
    "    Yields:\n",
    "        str: Chunks of the file content\n",
    "    \"\"\"\n",
    "    chunk_size_bytes = chunk_size_kb * 1024\n",
    "    \n",
    "    while True:\n",
    "        chunk = file_handle.read(chunk_size_bytes)\n",
    "        if not chunk:\n",
    "            break\n",
    "        yield chunk"
   ]
  },
  {
   "cell_type": "code",
   "execution_count": 20,
   "id": "488c7f16",
   "metadata": {},
   "outputs": [
    {
     "name": "stdout",
     "output_type": "stream",
     "text": [
      "Time taken to read chunks: 2.566915988922119 seconds\n"
     ]
    }
   ],
   "source": [
    "with open(r\"C:\\Users\\22bcscs055\\Downloads\\final_train\\collection_1.tsv\", \"r\", encoding=\"utf-8\") as f:\n",
    "    start_time = time.time()\n",
    "    chunks = list(lazy_read(f, chunk_size_kb=4))\n",
    "    end_time = time.time()\n",
    "    print(f\"Time taken to read chunks: {end_time - start_time} seconds\")\n",
    "# print(chunks)"
   ]
  },
  {
   "cell_type": "code",
   "execution_count": 21,
   "id": "3518058d",
   "metadata": {},
   "outputs": [
    {
     "name": "stdout",
     "output_type": "stream",
     "text": [
      "Time taken to read entire file: 10.579607009887695 seconds\n"
     ]
    }
   ],
   "source": [
    "with open(r\"C:\\Users\\22bcscs055\\Downloads\\final_train\\collection_1.tsv\", \"r\", encoding=\"utf-8\") as f:\n",
    "    start_time = time.time()\n",
    "    chunks = f.read()\n",
    "    end_time = time.time()\n",
    "    print(f\"Time taken to read entire file: {end_time - start_time} seconds\")\n",
    "# print(chunks)"
   ]
  },
  {
   "cell_type": "code",
   "execution_count": 16,
   "id": "9f981f1a",
   "metadata": {},
   "outputs": [],
   "source": [
    "def _semantic_chunking(file_path: str, shared_model) -> Generator[Tuple[str, str, int], None, None]:\n",
    "        filename = os.path.basename(file_path)\n",
    "        try:\n",
    "            with open(file_path, \"r\", encoding=\"utf-8\", errors=\"ignore\") as f:\n",
    "                chunk = f.read()\n",
    "\n",
    "                chunk_id = 0\n",
    "                chunk_size = len(chunk)\n",
    "                sentences = []\n",
    "                sentences = sent_tokenize(chunk)\n",
    "                big_sentences = []\n",
    "                for i in range(len(sentences)-1):\n",
    "                    if i == len(sentences)-1:\n",
    "                        big_sentences.append(sentences[i])\n",
    "                        break\n",
    "                    if len(sentences[i]) < 20:\n",
    "                        sentences[i+1] = sentences[i]+ \" \"+ sentences[i+1]\n",
    "                    else:\n",
    "                        big_sentences.append(sentences[i])\n",
    "\n",
    "                sentences = big_sentences\n",
    "                # print(sentences)\n",
    "                embeddings = []\n",
    "                combined_sentences = []\n",
    "                combined_sentences.append(sentences[0])\n",
    "                distances = [0]\n",
    "                for i in range(1,len(sentences)):\n",
    "                    combined_sentences.append(sentences[i-1]+sentences[i])\n",
    "\n",
    "                # print(combined_sentences)\n",
    "                for i in range(1,len(sentences)):\n",
    "                    embeddings = shared_model.embed_documents(combined_sentences)\n",
    "                    current = embeddings[i]\n",
    "                    prev = embeddings[i-1]\n",
    "\n",
    "                    similarity = cosine_similarity([prev],[current])[0][0]\n",
    "                    # print(f\"similarity between {i-1} and {i} is {similarity}\")\n",
    "                    distances.append(1- similarity)\n",
    "                print(distances)\n",
    "                breakpoint_distance_threshold = 0.25\n",
    "                indices_above_thresh = [i for i,x in enumerate(distances) if x > breakpoint_distance_threshold]\n",
    "                print(indices_above_thresh)\n",
    "                if len(indices_above_thresh) == 0:\n",
    "                    yield (chunk, filename, chunk_id)\n",
    "                    return\n",
    "                o=0\n",
    "                for i in range(len(indices_above_thresh)):\n",
    "                    chunk_to_yield = \" \".join(sentences[o:indices_above_thresh[i]])\n",
    "                    print(chunk_to_yield)\n",
    "                    yield (chunk_to_yield, filename, chunk_id)\n",
    "                    o = indices_above_thresh[i]\n",
    "                    chunk_id += 1 \n",
    "                if o < len(sentences):\n",
    "                    chunk_to_yield = \"\".join(sentences[o:len(sentences)])\n",
    "                    print(chunk_to_yield)\n",
    "                    yield (chunk_to_yield, filename, chunk_id)\n",
    "                        # closed-distances[o]...distances[i]-open o<-i\n",
    "        except Exception as e:\n",
    "            print(f\"Error reading {filename}: {e}\")"
   ]
  },
  {
   "cell_type": "code",
   "execution_count": 17,
   "id": "d4cf8787",
   "metadata": {},
   "outputs": [
    {
     "name": "stdout",
     "output_type": "stream",
     "text": [
      "[0, np.float64(0.24039139445479119), np.float64(0.11138506369664014), np.float64(0.1324346497807971), np.float64(0.02349088230540608), np.float64(0.1183792297856151), np.float64(0.18378144501692406), np.float64(0.14887880619393856), np.float64(0.10192206357010147), np.float64(0.14987422778126447), np.float64(0.09096656527480274), np.float64(0.10960152377312782), np.float64(0.10160671711434865), np.float64(0.10032842519581486), np.float64(0.08796016569652432), np.float64(0.10301426162967964), np.float64(0.10354926488642935), np.float64(0.13786734753126506), np.float64(0.09504877590209915), np.float64(0.13826515385067395), np.float64(0.09125461303246873), np.float64(0.15182645366127123), np.float64(0.10055220046198798), np.float64(0.13105223472546812), np.float64(0.1401103772511516), np.float64(0.16404717680700442), np.float64(0.10477582351257242), np.float64(0.04724637976085777), np.float64(0.11474758792837736)]\n",
      "[]\n",
      "('\"BUSINESS & INDUSTRY.  \"IN 1984 THIS AMERICAN COMPANY INTRODUCED THE FIRST MINIVAN, CHRYSLER. INTUIT\\'S.  THE GREEN GIANT WORKS FOR THIS CO. WITH ANOTHER JOLLY SPOKESFIGURE, THE DOUGHBOY, PILLSBURY. STARBUCKS.  Free Flashcards about BUSINESS & INDUSTRY - StudyStack.  \"Sep 10, 2012.  The Green Giant works for this company with another jolly spokesfigure, the Doughboy. Reply . Report Abuse Judge it! Alex Trebek.  Ask Me A Trivia Question -- 2 -- - Discussion on Topix.  \"Mar 29, 1999.  More than any other issue, the ethics of tobacco advertising -- both morally.  In 1964, the company revived the cowboy but this time he was in mythical.  The spokesfigure helped make McDonald\\'s the most dominant.  Jolly Green Giant.  The Green Giant\\'s national ad debut in 1928 was disappointing.  TOP 10 ADVERTISING ICONS | News - AdAge.  \"1965: Poppin\\' Fresh, the Pillsbury Doughboy, makes his first appearance.  Green Giant and other frozen-food companies gave Pillsbury a much larger share.  1965 by the Leo Burnett advertising agency--and Jolly Green Giant familiar figures.  Other mergers in the works at this time included ties between Unilever and.  History of The Pillsbury Company FundingUniverse.  \"It was 1925 when the Minnesota Valley Canning Company developed the seeds for a.  The Green Giant became so recognizable that in 1950 Minnesota Valley.  General Mills operates the Green Giant business in Europe and certain other.  General Mills: Green Giant vegetables.  \"Feb 24, 2000.  Hartwig, business team leader for Green Giant frozen vegetables, says her.  Elizabeth Hanlin, who works in corporate communications, has had similar.  The voice of the Jolly Green Giant tells what it\\'s like to provide the Ho Ho Ho!.  Jolly Green Giant and another company icon, the Pillsbury Doughboy,.  Promoting Pillsbury: Vegetable giant renews campaign for value.   \"The Jolly Green Giant is a mascot created by the Minnesota Valley Canning Company of Le Sueur, Minnesota, for its Green Giant brand of products now owned.  Minnesota by Design Jolly Green Giant - Walker Art Center.  \"Mar 6, 2008.  Green Giant Vegetables: The Green Giant.  Nothing jolly', 'doc_0.txt', 0)\n",
      "[0, np.float64(0.05182511238338827), np.float64(0.12749628819148695), np.float64(0.08026676952960543), np.float64(0.16351922079605608), np.float64(0.1031067687525985), np.float64(0.09500627301924935), np.float64(0.13073466245393361), np.float64(0.10539639953485724), np.float64(0.05751611407578072), np.float64(0.08782550114103094), np.float64(0.11963254634850773), np.float64(0.0525834899359191), np.float64(0.16221836385526867), np.float64(0.10785184047897578), np.float64(0.09991865843247771), np.float64(0.11505469711533967), np.float64(0.07870886953677514), np.float64(0.1093624284633693), np.float64(0.09652544306273858)]\n",
      "[]\n",
      "('mascot created by the Minnesota Valley Canning Company of Le Sueur, Minnesota, for its Green Giant brand of products now owned.  Minnesota by Design Jolly Green Giant - Walker Art Center.  \"Mar 6, 2008.  Green Giant Vegetables: The Green Giant.  Nothing jolly about that fucker.  to be flamboyant, tight-in-all-the-wrong-places official candy company garb.  one hand, a bag of M&M\\'s in the other and a cigarette dangling from his lips.  How do three mini-guys who work in the breakfast cereal industry even.  The 7 Most Terrifying Corporate Mascots of All-Time - Cracked.com.  \"Jun 25, 2010.  Furthermore, he says that for Jung, archetype many companies came to.  5 Three other terms Jung employed were myth, hero, and collective unconscious.  Archetypes and the Collective Unconscious, The Collected Works, vol.  top 10 brand icons of the 20th century, the Jolly Green Giant ranked third.  The Marketing Power Of Jungian Hero Archetypes - SlideShare.  \"May 19, 2015.  Because of this competitive environment, companies continually intensified.  5 Three other terms Jung employed were myth, hero, and collective unconscious.  Archetypes and the Collective Unconscious, The Collected Works, vol.  Crocodile Dundee, Ronald McDonald and the Jolly Green Giant is.  The Marketing Power Of Jungian Hero Archetypes - Business. 1996-11-11. The Green Giant works for this company with another jolly spokesfigure, the Doughboy. $600\", 27846, \"Pillsbury. Double Jeopardy!. 2806\"', 'doc_1.txt', 0)\n",
      "[0, np.float64(0.05728701313569251), np.float64(0.03930844431064329), np.float64(0.06851144855703117), np.float64(0.09187229287875887), np.float64(0.10111350141843234), np.float64(0.061881527043061046), np.float64(0.06295312553284671), np.float64(0.11123090900019472), np.float64(0.09463218891078751), np.float64(0.07267733043745839), np.float64(0.03190471678538653), np.float64(0.14204724238397226), np.float64(0.07961670523608355), np.float64(0.09974144800717843), np.float64(0.1050846814424764), np.float64(0.08626767170523286), np.float64(0.19508915520715597), np.float64(0.08830287677142012), np.float64(0.04186049882951848)]\n",
      "[]\n",
      "('\"Prudential Tower. The Prudential Tower, also known as the Prudential Building or, colloquially, The Pru, is an International Style skyscraper in Boston, Massachusetts.   The building, a part of the Prudential Center complex, currently stands as the 2nd-tallest building in Boston, behind 200 Clarendon Street.   The Prudential Tower was designed by Charles Luckman and Associates for Prudential Insurance.   Completed in 1964, the building is 749 ft tall, with 52 floors.   It contains 1200000 sqft of commercial and retail space.   Including its radio mast, the tower stands as the tallest building in Boston and is tied with others as the 77th-tallest in the United States, rising to 907 ft in height.  Kirya Tower. Kirya Tower (also known as the HaYovel Tower) is a skyscraper in Tel Aviv, Israel.   At 158 m (42 floors), it is the sixth tallest building in Israel.   Construction was completed in 2005 on land previously belonging to the IDF HaKirya base.   The tower is located near the Tel Aviv\\'s tallest skyscraper cluster, the Azrieli Center complex, and is occupied largely by government offices.   The consolidation of many of these offices in the tower, which were previously spread out all over the Tel Aviv district, allowed the release of a considerable amount of high-value government land to private development, as well as introducing efficiencies from housing many government functions under one roof.   The tower has a helipad on its roof.   It was originally planned to have 28 floors for government functions only, with the additional 14 floors being approved during construction.   13 of these top floors were approved for use by private sector offices, and the top 11 floors have floor-to ceiling windows.   An external elevator serves the uppermost floors, and an underpass connects the building with the tower\\'s underground parking.   The rent being paid by the government is $16/square metre per month for the next 20 years.  The Shops at Prudential Center. The Shops at Prudential Center is an urban shopping center located at the base of the Prudential Tower in Boston, Massachusetts.   The mall lies adjacent to many other destinations such as: Hynes Convention Center, the 101/111 Huntington Avenue office towers, and a skywalk connecting it to Copley Place.  Georgia State University Library. The Georgia', 'doc_2.txt', 0)\n",
      "[0, np.float64(0.1260585465397911), np.float64(0.026048931645373363), np.float64(0.22151397434905684), np.float64(0.03333240132710025), np.float64(0.12064408422598527), np.float64(0.11485912046283442), np.float64(0.08294427032757912), np.float64(0.15717284664442532), np.float64(0.15741379502899566), np.float64(0.047153242812839724), np.float64(0.06265005121358325), np.float64(0.04282989353855782), np.float64(0.05657427156152839), np.float64(0.06168248646837049), np.float64(0.11192422249200706), np.float64(0.17184809138879442)]\n",
      "[]\n",
      "('center located at the base of the Prudential Tower in Boston, Massachusetts.   The mall lies adjacent to many other destinations such as: Hynes Convention Center, the 101/111 Huntington Avenue office towers, and a skywalk connecting it to Copley Place.  Georgia State University Library. The Georgia State University Library is an academic research library affiliated with Georgia State University.   The Georgia State University Library has two primary locations, Library North and Library South.   In addition to hundreds of thousands of pieces of print media, the library also has online databases for electronic articles, as well as an electronic catalog for looking up media within the library’s many floors.   The media found in the library includes novels, journals, newspapers, government documents, archives, DVDs, CDs, video tapes, audio cassette tapes, and periodicals.   The University Library is located in the middle of Georgia State\\'s main campus near Gilmer St. and Courtland St.  List of tallest buildings in Boston. Boston, the capital of the U.S. state of Massachusetts and the largest city in New England, is home to 251 completed high-rises, 29 of which stand taller than 400 ft.   The majority of the city\\'s skyscrapers and high-rises are clustered in the Financial District and Back Bay neighborhoods.   The tallest structure in Boston is the 60-story 200 Clarendon, better known to locals as the John Hancock Tower, which rises 790 ft in the Back Bay district.   It is also the tallest building in New England and the 63rd-tallest building in the United States.   The second-tallest building in Boston is the Prudential Tower, which rises 52 floors and 749 ft.   At the time of the Prudential Tower\\'s completion in 1964, it stood as the tallest building in North America outside of New York City.  The Super Spy. The Super Spy （ザ・スーパー・スパイ） is an early Neo Geo game released by SNK in 1990.   It is a first-person shooter and beat \\'em up game with action RPG elements in which players move through the many floors of an office building shooting terrorists.   It was an early example of a first-person shooter where the player character\\'s arms and weapons are visible on screen.   In 1991, SNK\\'s \"Crossed Swords \" had similar gameplay, but with more RPG elements and hack & slash combat instead of', 'doc_3.txt', 0)\n",
      "[0, np.float64(0.17097504122280116), np.float64(0.14576468556843114), np.float64(0.10673976920646122), np.float64(0.1317852687018678), np.float64(0.05101117234788033), np.float64(0.08380588902827935), np.float64(0.08891782996921604), np.float64(0.08232180277125944), np.float64(0.05105886764939882), np.float64(0.10979430094869658), np.float64(0.054305460071560785), np.float64(0.3114795980373771), np.float64(0.188272438074371), np.float64(0.10851131066244468), np.float64(0.07903115525008242), np.float64(0.15438711742569455), np.float64(0.12639077095785523), np.float64(0.05481602765808946), np.float64(0.19722381723418536), np.float64(0.07825287419457583)]\n",
      "[12]\n",
      "many floors of an office building shooting terrorists. It was an early example of a first-person shooter where the player character's arms and weapons are visible on screen. In 1991, SNK's \"Crossed Swords \" had similar gameplay, but with more RPG elements and hack & slash combat instead of shooting and fist-fighting. Grant USA Tower. The Grant USA Tower was a proposed 121-story skyscraper planned for Newark, New Jersey by developer Harry Grant. Harry Grant was an Israeli-born developer who was based out of New Jersey, and who financed the gold dome on top of Newark City Hall, and also started the never-completed Renaissance Mall in the city. Grant Tower was to be located over the old Central Railroad Terminal, near Broad and Lafayette Street. In 2007, the incomplete Renaissance Mall was torn down to build the Prudential Center. The old and unused part of the train station below, which was to serve as the foundation of the tower, remains in place. There are currently plans to connect the old portion of the train station with the Prudential Center, with the idea of turning it into a museum. There were plans for a 21-floor atrium above the 121st floor, which would have been the top floor of the hotel. Had it been completed as planned by 1986, it would have contained the tallest hotel, and would have been the tallest building and the tallest structure at the time. 111 Huntington Avenue.\n",
      "('many floors of an office building shooting terrorists. It was an early example of a first-person shooter where the player character\\'s arms and weapons are visible on screen. In 1991, SNK\\'s \"Crossed Swords \" had similar gameplay, but with more RPG elements and hack & slash combat instead of shooting and fist-fighting. Grant USA Tower. The Grant USA Tower was a proposed 121-story skyscraper planned for Newark, New Jersey by developer Harry Grant. Harry Grant was an Israeli-born developer who was based out of New Jersey, and who financed the gold dome on top of Newark City Hall, and also started the never-completed Renaissance Mall in the city. Grant Tower was to be located over the old Central Railroad Terminal, near Broad and Lafayette Street. In 2007, the incomplete Renaissance Mall was torn down to build the Prudential Center. The old and unused part of the train station below, which was to serve as the foundation of the tower, remains in place. There are currently plans to connect the old portion of the train station with the Prudential Center, with the idea of turning it into a museum. There were plans for a 21-floor atrium above the 121st floor, which would have been the top floor of the hotel. Had it been completed as planned by 1986, it would have contained the tallest hotel, and would have been the tallest building and the tallest structure at the time. 111 Huntington Avenue.', 'doc_4.txt', 0)\n",
      "111 Huntington Avenue is a Boston skyscraper.Located on Huntington Avenue, it is part of the Prudential Center complex that also houses the Prudential Tower.Completed in 2002, the tower is 554 feet (169 meters) tall and houses 36 floors.It is Boston's ninth-tallest building.It won the 2002 bronze Emporis Skyscraper Award.It is sometimes given the unofficial nickname The R2-D2 Building after the \"Star Wars \" droid's top.Prudential Headquarters.Prudential Financial, as it is known today, began as The Widows and Orphans Friendly Society in 1875.For a short time it was called the Prudential Friendly Society, and for many years after 1877 it was known as the Prudential Insurance Company of America, a name still widely in use.\n",
      "('111 Huntington Avenue is a Boston skyscraper.Located on Huntington Avenue, it is part of the Prudential Center complex that also houses the Prudential Tower.Completed in 2002, the tower is 554 feet (169 meters) tall and houses 36 floors.It is Boston\\'s ninth-tallest building.It won the 2002 bronze Emporis Skyscraper Award.It is sometimes given the unofficial nickname The R2-D2 Building after the \"Star Wars \" droid\\'s top.Prudential Headquarters.Prudential Financial, as it is known today, began as The Widows and Orphans Friendly Society in 1875.For a short time it was called the Prudential Friendly Society, and for many years after 1877 it was known as the Prudential Insurance Company of America, a name still widely in use.', 'doc_4.txt', 1)\n",
      "[0, np.float64(0.27255903860066033), np.float64(0.06824799172107887), np.float64(0.06288087489133198), np.float64(0.06522590304600262), np.float64(0.10756883283918361), np.float64(0.14478101727714576)]\n",
      "[1]\n",
      "Friendly Society in 1875.\n",
      "('Friendly Society in 1875.', 'doc_5.txt', 0)\n",
      "For a short time it was called the Prudential Friendly Society, and for many years after 1877 it was known as the Prudential Insurance Company of America, a name still widely in use.Based in Newark, New Jersey, the company has constructed a number of buildings to house its headquarters downtown in the Four Corners district.In addition to its own offices, the corporation has financed large projects in the city, including Gateway Center and Prudential Center.Prudential has about 5,200 employees in the city.Prudential (MBTA station).Prudential is an underground light rail station on the MBTA Green Line \"E \" branch, located below Huntington Avenue next to the Prudential Tower complex near Belvidere Street in Boston, Massachusetts.\n",
      "('For a short time it was called the Prudential Friendly Society, and for many years after 1877 it was known as the Prudential Insurance Company of America, a name still widely in use.Based in Newark, New Jersey, the company has constructed a number of buildings to house its headquarters downtown in the Four Corners district.In addition to its own offices, the corporation has financed large projects in the city, including Gateway Center and Prudential Center.Prudential has about 5,200 employees in the city.Prudential (MBTA station).Prudential is an underground light rail station on the MBTA Green Line \"E \" branch, located below Huntington Avenue next to the Prudential Tower complex near Belvidere Street in Boston, Massachusetts.', 'doc_5.txt', 1)\n",
      "[0, np.float64(0.09478531829462877), np.float64(0.11849674286654333), np.float64(0.06954601328771381), np.float64(0.11110174683012952), np.float64(0.11767894563369174), np.float64(0.06343617732169893), np.float64(0.0908092704008786), np.float64(0.15262337468561893), np.float64(0.1169037576012949), np.float64(0.07413393336088714), np.float64(0.15983596686095403), np.float64(0.062451975321841435), np.float64(0.13556371128630373), np.float64(0.08593445631278263), np.float64(0.08817869900396313), np.float64(0.19745068892738116), np.float64(0.16611661824336665), np.float64(0.115407314635948), np.float64(0.12190656077564876), np.float64(0.10748952778661713), np.float64(0.10868909418578032), np.float64(0.1977030642979284), np.float64(0.10841501270665233), np.float64(0.17813718861487038), np.float64(0.13353900050790968), np.float64(0.09584579768036128), np.float64(0.0849072259401773)]\n",
      "[]\n",
      "('\"HOT TOPICS.  \"G. Richard Seed, who wanted to make public his wish to clone a human within 90 days of.  Doubts have been raised about whether he truly has a partnership.  Chapter 2.  \"Richard Griffith Seed (born 1928) is an American physicist and entrepreneur best known for.  On December 5, 1997, Seed announced that he planned to clone a human being.  While virtually no mainstream scientist believed Seed would succeed, there.  Seed was awarded the 1998 Ig Nobel Prize in economics, and a.  Richard Seed - Wikipedia.  \"The Honolulu group showed that somatic cell nuclear transplantation can be.  5 That probability took substance as physicist Richard Seed announced that he has.  financial support, and scientists to staff his proposed Chicago cloning clinic.  Then he fused the gene-less oocytes with somatic cells taken from the udder.  College and University Dialogue - Circle.  \"Jan 14, 1998.  I can\\'t wait to make two or three of my own self, \" he blithely.  The next time Richard Seed announced his plan, the world gasped.  last week on National Public Radio that he would open a human cloning clinic in.  sheep Dolly; the measure would ban similar procedures on humans for at least five years.  Richard Seed: Pioneer of cloning? | chronicle.augusta.com.  \"January 7, 1998.  \"I think it will blow over, \" Richard G. Seed told CNN on Wednesday. \"There were an awful lot of people against the automobile, too, \" he said in a live.  clear where in the Chicago area Seed planned to open his proposed clinic. He.  The human cloning procedure involves taking an unfertilized egg from a.  Opposition to human cloning will \\'blow over,\\' scientist says - CNN.com.  \"Feb 13, 1998.  Archive 1998 0213.  Now, the familiar queries are arising over cloning: When does human life begin?.  Plant- and animal-cloning research could continue, as could.  \"I have no doubt that responsible legislation to ban the production of.  Richard Seed, announced he was ready to open a cloning clinic.  No Ban on Cloning Of Humans, for Now - CSMonitor.com.  \"BILL MOYERS: The proceeds from his', 'doc_6.txt', 0)\n",
      "[0, np.float64(0.0880962061461058), np.float64(0.08581822494741542), np.float64(0.07362368648042339), np.float64(0.11214243592099937), np.float64(0.11541641361076482), np.float64(0.11763020921142753), np.float64(0.17646692208485593), np.float64(0.12685117601280615), np.float64(0.11050242276438227), np.float64(0.10134335963422225), np.float64(0.12311900155546307), np.float64(0.16442902280749905), np.float64(0.12571066760668037), np.float64(0.08628817047862325), np.float64(0.10313377246018918), np.float64(0.14103366083614477), np.float64(0.08520803677170874), np.float64(0.089544523300501), np.float64(0.14584996884850054), np.float64(0.11814038639571622), np.float64(0.08343218426964971), np.float64(0.07409102181552452), np.float64(0.17619253570809246), np.float64(0.1814218552917941), np.float64(0.07749738493943814), np.float64(0.10039484311456837)]\n",
      "[]\n",
      "('continue, as could.  \"I have no doubt that responsible legislation to ban the production of.  Richard Seed, announced he was ready to open a cloning clinic.  No Ban on Cloning Of Humans, for Now - CSMonitor.com.  \"BILL MOYERS: The proceeds from his fundraisers are modest, and he can.  the winners for the two open seats are the candidates who raised the most.  U.S. Supreme Court: In part, it\\'s because the campaign process itself does.  announced plans to construct a huge $700 million polyvinyl chloride plant near Convent.  Transcript | Justice For Sale | FRONTLINE | PBS.  \"Nov 18, 1998.  This Notes and Comments is brought to you for free and open access by the.  search.8 In fact, in 1998, Richard Seed, a physicist, proposed to.  (FDA) announced its intentions to regulate human cloning under.  He will continue to at-.  the cloning procedure involves cells that are more than minimally.  Deconstructing the Human Egg - DOCS@RWU - Roger Williams.   \"Jan 1, 2003.  That way, he argued, there would be both more food to go around and.  By day 4, the cells of the embryo adhere to each other in a process.  Many in vitro fertilization (IVF) clinics transfer the day 5 embryos to the.  by which it can be judged, if it is a law unto itself, the seed is planted for moral relativism.  Stem Cell Research, Morality, and Law -.  \"tive assistance procedures, can result in a posthumously conceived child, i.e., a child which is not yet.  1997), affd, 696 N.E.2d 174 (N.Y. 1998) (between.  100 But see Panel Casts Doubt on Human Cloning Claim, N.Y. TIMES, Jan. 29,.  cist Dr. Richard Seed announced that he plans to open a Human Clone Clinic and.  The Real Sexual Revolution: Posthumously.  - Musicians for Freedom.  \"May 19, 2005.  The first seeds of the analysis of part of the elite UK sample were.  However human embryos would be destroyed in this process, a fact which.  For example, in Genealogy of Morals he used this.  1998, a maverick scientist named Richard Seed announced his intention to open a clinic for cloning', 'doc_7.txt', 0)\n",
      "[0, np.float64(0.13186520020831338), np.float64(0.07135904960996309), np.float64(0.1734660209851253), np.float64(0.1229879246305603), np.float64(0.07257223232399257), np.float64(0.07572750572531484), np.float64(0.17672673150436102), np.float64(0.15226997318744817), np.float64(0.07901653115891294), np.float64(0.10846629604433522), np.float64(0.10455484173557528), np.float64(0.11836686727907686), np.float64(0.13989781082990826), np.float64(0.045097190687808264), np.float64(0.23241719740656885), np.float64(0.1769399856022863), np.float64(0.19767136443009825), np.float64(0.10075437397906828), np.float64(0.14772540658965838), np.float64(0.16443618402913662), np.float64(0.1193249111116158), np.float64(0.14718752506427002), np.float64(0.049166385346485875), np.float64(0.1311503684408224)]\n",
      "[]\n",
      "('the analysis of part of the elite UK sample were.  However human embryos would be destroyed in this process, a fact which.  For example, in Genealogy of Morals he used this.  1998, a maverick scientist named Richard Seed announced his intention to open a clinic for cloning babies.  Anglo-American Press Coverage of Therapeutic Cloning: A.   \"Meanwhile, in Chicago, maverick scientist Richard Seed announced that a clinic he had established there would pursue human cloning, appearing on ABCs.  Mendel Newsletter n.s. 7 (February 1998). ,  \"Welcome 2000 - Google Books Result.  \"He stopped by the prison clinic and was given ibuprofen and told to drink more water.  of the disease has been risingfrom 2,271 cases in 1998 to 22,641 in 2011.  But the seeds of Eteaki\\'s illness were planted three decades ago, when the.  I was told CDCR would start screening all inmates for valley fever with a new.  How the Government Put Tens of Thousands of People at Risk of a.   \"May 13, 1987.  Named Seed Who Wants to Start a Clinic in Chicago to Clone Humans?, TIME, Jan.  See Rick Weiss, Human Cloning Will Be Regulated: FDA Asserts It Has.  Seed announced his plan to clone a human being,9 the public.  A more technical definition of totipotency is t he capacity retained by some.  FDA REGULATION OF HUMAN CLONING: USURPATION OR.   \"3 days ago.  Witnesses say he was sitting in the waiting room for around an hour when he.  Oakland: Man in wheelchair blows himself up with pipe bomb in clinic.  Rachel Weisz at the opening of Plenty in New York Understated elegance.  Bachelorette alum Desiree Hartsock announces birth of son Asher with.  Man in a wheelchair blows himself up inside California health clinic.   \"Sep 29, 2007.  More than 6,000 breast enlargement procedures were performed in Britain.  she qualified for free treatment at a charity clinic, the Jefferson Davis Hospital,.  So I told Dr Gerow I\\'d do the new breasts if he would fix my ears. \".  a walk in Paris after announcing opening of a gourmet popcorn shop in the city.', 'doc_8.txt', 0)\n",
      "[0, np.float64(0.14842757421823494), np.float64(0.12918999334720171), np.float64(0.13460364550670134), np.float64(0.13421380575995234), np.float64(0.07671051265732087), np.float64(0.12860828897095078), np.float64(0.12757153454748582), np.float64(0.07184950015543834), np.float64(0.15253761561229362), np.float64(0.10846799212306346), np.float64(0.11561038653756484), np.float64(0.09656097625500282), np.float64(0.08778766379353131), np.float64(0.14816134036928919), np.float64(0.06171700084811116), np.float64(0.21831593130676674), np.float64(0.11399672498547841), np.float64(0.14159701678874614), np.float64(0.09579843030424029), np.float64(0.09916437254328458), np.float64(0.16061829142465534), np.float64(0.07801811918427559), np.float64(0.09610443595687668), np.float64(0.08735063977467117), np.float64(0.09345257751539493)]\n",
      "[]\n",
      "('in Britain.  she qualified for free treatment at a charity clinic, the Jefferson Davis Hospital,.  So I told Dr Gerow I\\'d do the new breasts if he would fix my ears. \".  a walk in Paris after announcing opening of a gourmet popcorn shop in the city.  \\'I had the world\\'s first breast job - and endured years of misery,\\' says.   \"Jan 17, 2010.  Fears retired teacher\\'s move will open floodgates unless age limit is enshrined in law. 243.  He said: \\'No one at the clinic has seriously opposed seeing these.  The process, which involves couples seeking IVF donating spare eggs in.  at the Human Fertilisation and Embryology Authority (HFEA) in 1998.  Woman, 60, becomes oldest person ever to be given IVF treatment.   \"Nov 19, 2014.  If we can clone sheep, can we clone humans?.  Dolly\\'s authenticity was formally challenged in a January 30, 1998 letter to the.  than the technique that led to Dolly, but still very low, making the process tedious.  In December 1997, Dr. Richard Seed, physicist turned fertility specialist, announced that he.  Cloning and Genetics: The Brave New World Closes In.  \"Jul 21, 2016.  Explore articles, stories and resources for leaders including personal stories, recommended reading and recommended videos.  Free Resources for Leaders from The Leadership Challenge.  \"were held off the plane until it was confirmed that he had boarded the air- craft.  off that detector would have been screened with a hand wanda procedure.  the flight attendants to get a cockpit key, to force one of them to open the cock-.  The Commission asked Deputy Secretary of State Richard Armitage in 2004.  The 9/11 Commission Report - Avalon Project.  \"He would need all of his talent and confidence this day, and then some, as he planned to.  Cases with procedural overlap, involving at least one patient with an open incision.  At 7:42 a.m., Dr. Kirkham Wood began a complex spine procedure on a.  General orthopedics when he took over as department head in 1998.  Clash in the name of care - A Boston Globe Spotlight Team Report.  \"Feb 25, 1998', 'doc_9.txt', 0)\n",
      "[0, np.float64(0.06648061940172756), np.float64(0.10899895983755281), np.float64(0.11159853338681269), np.float64(0.08013210330593123), np.float64(0.10991280005545545), np.float64(0.07965417963337529), np.float64(0.12150527968753799), np.float64(0.1477949351093566), np.float64(0.1767588762733645), np.float64(0.11121910917503863), np.float64(0.06304944395338652), np.float64(0.13037056919628098), np.float64(0.08273010472580233), np.float64(0.16947357166768318), np.float64(0.1153483904303606), np.float64(0.12250866412061112), np.float64(0.1499859678810953), np.float64(0.17425043167500154), np.float64(0.1166619041872149), np.float64(0.1772192641026923), np.float64(0.16259239146624693), np.float64(0.1133698691762981), np.float64(0.12315380943444343), np.float64(0.08955340037536774), np.float64(0.13737130667403608), np.float64(0.1525022197514444), np.float64(0.11437113138574295), np.float64(0.09658015503970518)]\n",
      "[]\n",
      "('open incision.  At 7:42 a.m., Dr. Kirkham Wood began a complex spine procedure on a.  General orthopedics when he took over as department head in 1998.  Clash in the name of care - A Boston Globe Spotlight Team Report.  \"Feb 25, 1998.  It had been three years since Tommy Lowery learned he had prostate cancer.  from the aloe vera plant, injected into his bloodstream, that would shrink.  But in the Manassas clinic of Donald MacNay, the Lowerys say they found.  When the cancer diagnosis came, Lowery announced to his family, \"I will.  WAS CANCER \\'CURE\\' A PAINFUL LIE? FOR DESPERATE.   \"Mar 10, 2002.  He directs a large and astonishingly successful medical marketing.  When properly used, however, they have proven beyond reasonable doubt to be a major.  Weil would have been correct if he had simply observed that.  His next book on medicine was Health and Healing (1983, republished in 1998).  A Trip to Stonesville:Some Notes on Andrew Weil, M.D. - Quackwatch.  \"Dec 31, 2010.  Join 23-year architect Richard Gage, AIA, in this feature length.  The aim of this documentary was to provide reasons to open a new and.  He would have put himself in an embarrassing situation,.  doubt or at least plant the seed of doubt, or possibly cause people in.  google 1998 al qaeda fatwa pbs.  9/11: Explosive Evidence - Experts Speak Out - Top Documentary.   \"He then told of how there was an area in Utah that native Indians knew of, where.  (Apparently, Todd Smith, whom I would later meet in court, was a Mormon who.  in pigs) which included the all important \\'plant derived\\' colloidal mineral water.  who had heard Wallach\\'s DDDL tape (and no doubt received advice from AL.  A critical look at Youngevity & Dr Joel Wallach - EXPOSED.  \"Sinclair had planted the seeds for the idea that autism is not a devastating disorder.  who in a 1998 article for the Atlantic website wrote, Neurodiversity may be.  Now he will feel more at home with the other horses, the ones that don\\'t have.  Last Summer engages the lobotomy procedure literally, fictionalizes Rose', 'doc_10.txt', 0)\n",
      "[0, np.float64(0.1432800475413759), np.float64(0.07102423391925727), np.float64(0.08139327733531387), np.float64(0.07147409250860282), np.float64(0.12138261130125172), np.float64(0.09691547705228098), np.float64(0.07378950065704604), np.float64(0.10633929149663557), np.float64(0.07947847264369778), np.float64(0.09784037497887865), np.float64(0.19340823364573057), np.float64(0.10810786749947221), np.float64(0.08910139060569977), np.float64(0.13138015810211867), np.float64(0.06917667432877428), np.float64(0.058245597474323896), np.float64(0.09508364872928676), np.float64(0.1346416648739207), np.float64(0.1720244877535112), np.float64(0.1178893765440634), np.float64(0.1858803109656323), np.float64(0.14225534711248955), np.float64(0.15150186452172576), np.float64(0.20529039220278444), np.float64(0.11037675312028505), np.float64(0.0964990289619968), np.float64(0.08088235374739605), np.float64(0.14180487046378543), np.float64(0.08543882949578618)]\n",
      "[]\n",
      "('the idea that autism is not a devastating disorder.  who in a 1998 article for the Atlantic website wrote, Neurodiversity may be.  Now he will feel more at home with the other horses, the ones that don\\'t have.  Last Summer engages the lobotomy procedure literally, fictionalizes Rose as a.  Not Like All the Other Horses: Neurodiversity and the Case of Rose.  \"He was adamant that the ketogenic diet did not work in healing cancer long term.  down tumors), but I was beginning to have some doubts about it working long term.  to heal, did not work, I would certainly be open to try the ketogenic diet.  the diets Dr. Kelley prescribed ranged from largely plant-based high-carb to an.  Dr. Gonzalez dismantles the ketogenic diet for cancer - Chris Beat.   \".  which would grow. He planted lots of seeds at UAB, and with his nurtur-.  When it was announced that John F. Amos, O.D., was stepping down as the school\\'s.  optometry - University of Alabama at Birmingham.  \"In an e-mail message, Nevins said he would like to speak out about the.  Other clinics were just as keen to try this idea, including physicians at M. D. Anderson.  In subsequent papers by the Duke group, Baggerly says he found new errors.  After the allegation that Potti may have padded his resum, Duke announced that.  News this Week | Science.  \"Apr 21, 2016.  On Saturday, two leading experts in whole food, plant-based nutrition.  School Alternative Education Project \\'Mustard Seed Food Bank fruit and.  And now says he will make abolishing the Tribunal an election issue.  Our brand new Skin Cancer Clinic is now open in Wanniassa!.  Established in 1998.  14 April 2016 by Canberra Weekly Magazine - issuu.  \"U.S. government researchers have recognised this interest, opening the Office of Alternative.  26, PRNewswire -- St. John\\'s Episcopal Hospital announced today that it will be.  Before games he takes the Chinese herb ginseng for energy.  While some specialists doubt the plant\\'s medicinal value, people are climbing.  Richters HerbLetter - Richters Herbs.  \"May 6, 2005.  According to Richard Thorpe\\'s biography', 'doc_11.txt', 0)\n"
     ]
    }
   ],
   "source": [
    "files = os.listdir(r\"C:\\Users\\22bcscs055\\Downloads\\test_data\")\n",
    "files = natsorted(files)\n",
    "shared_model = SharedEmbeddingModel()\n",
    "shared_model.initialize_model()\n",
    "for fname in files:\n",
    "    file_path = os.path.join(r\"C:\\Users\\22bcscs055\\Downloads\\test_data\", fname)\n",
    "    for chunk in _semantic_chunking(file_path, shared_model):\n",
    "        print(chunk)"
   ]
  },
  {
   "cell_type": "code",
   "execution_count": 14,
   "id": "712907ff",
   "metadata": {},
   "outputs": [],
   "source": [
    "from typing import Generator, Tuple\n",
    "import os\n",
    "from rag.parse_json import parser\n",
    "from rag.pipeline import lazy_read\n",
    "from rag.preprocess import preprocess_chunk_text\n",
    "\n",
    "def _special_json_chunking(file_path: str) -> Generator[Tuple[str, str, int], None, None]:\n",
    "        \"\"\"Specialized JSON chunking for mock_data.\"\"\"\n",
    "        filename = os.path.basename(file_path)\n",
    "        \n",
    "        with open(file_path, \"r\", encoding=\"utf-8\", errors=\"ignore\") as f:\n",
    "            chunk_id = 0\n",
    "            # Lazily create chunks for memory and time efficiency\n",
    "            for chunk in lazy_read(f, chunk_size_kb=4):\n",
    "                chunk = \" \" + preprocess_chunk_text(chunk)\n",
    "                print(chunk)\n",
    "                root = parser(chunk)\n",
    "                print(root)\n",
    "                chunklets = []\n",
    "                def chunks_in(node, chunk):\n",
    "                    if node.children:\n",
    "                        for child in node.children:\n",
    "                            chunks_in(child, chunk)\n",
    "                    else:\n",
    "                        chunklets.append(chunk[node.start+1:node.end])\n",
    "                chunks_in(root, chunk)\n",
    "                for chunk_to_yield in chunklets:\n",
    "                    if len(chunk_to_yield.strip()) > 5:  # Yield only non-empty chunks\n",
    "                        yield (chunk_to_yield, filename, chunk_id)\n",
    "                    chunk_id += 1\n"
   ]
  },
  {
   "cell_type": "code",
   "execution_count": 15,
   "id": "a5bc7fa2",
   "metadata": {},
   "outputs": [
    {
     "name": "stdout",
     "output_type": "stream",
     "text": [
      " include consideration of the student's. If there were two words to describe him, they are 'He cared. Overall crime dropped from 894 reports in 1997 to 874 in 1998. A third Fellowship the Richard A. Wiebe Public Service fellowship. , UPDATE 22-11 - University at Albany }, { NDSU does not discriminate on the basis of age, color, disability, gender. he learned when he was far away from home and everyone he'd ever. father, Walter Piehl Jr. announced them. called the most honest and open-hearted. I would because it is all part of the process. Texas State Seed and Plant Board. magazine - North Dakota State University }, { May 25, 2016. I know without a doubt that I. Send inquiries and submissions to HQ AFRC/ PAOM, 155 Richard Ray Blvd. are going to get a lot healthier fleet of aircraft, he said. Air Force officials announced April 12 that Davis-. open process to address F-35 basing, said Jennifer. and then to Beale AFB in 1998. here - Citizen Airman Magazine - U.S. Air Force }, { We are also happy to announce that Linda. Isaacson was. ment will begin with the start of the Fall semester. See the. whose work he has been teaching in his ecological. Mission Directorate process for extending on-orbit. Richard B. Johnston Award: April Simnor. seeds, nutrient cycling, control of many agricultural. Fall 2009 - College of Life Sciences and Agriculture - University of. }, { In 1970 the first seeds of the current conflict. Rights and a new book he had published, called Genocide in Nigeria: The. There is no doubt the killings of the Ogoni leaders were brutal. Just days after the murder, Shell announced that it would press ahead with a. the time is right, start production again said Shell. all for shell - Oil Change International }, {. are plant- ing the seeds of another economy in our midst?. Since 1998, this solidarity economy approach has developed. and Richard Wolff, for example, have suggested that multiple. namic process of economic organizing in which organizations. plans for de-marketization, he has doubts that it will reach\n",
      "<rag.parse_json.TreeNode object at 0x000001B7849C6F90>\n",
      "(\"include consideration of the student's. If there were two words to describe him, they are 'He cared. Overall crime dropped from 894 reports in 1997 to 874 in 1998. A third Fellowship the Richard A. Wiebe Public Service fellowship. , UPDATE 22-11 - University at Albany \", 'doc_21.txt', 0)\n",
      "(\" NDSU does not discriminate on the basis of age, color, disability, gender. he learned when he was far away from home and everyone he'd ever. father, Walter Piehl Jr. announced them. called the most honest and open-hearted. I would because it is all part of the process. Texas State Seed and Plant Board. magazine - North Dakota State University \", 'doc_21.txt', 2)\n",
      "(' May 25, 2016. I know without a doubt that I. Send inquiries and submissions to HQ AFRC/ PAOM, 155 Richard Ray Blvd. are going to get a lot healthier fleet of aircraft, he said. Air Force officials announced April 12 that Davis-. open process to address F-35 basing, said Jennifer. and then to Beale AFB in 1998. here - Citizen Airman Magazine - U.S. Air Force ', 'doc_21.txt', 4)\n",
      "(' We are also happy to announce that Linda. Isaacson was. ment will begin with the start of the Fall semester. See the. whose work he has been teaching in his ecological. Mission Directorate process for extending on-orbit. Richard B. Johnston Award: April Simnor. seeds, nutrient cycling, control of many agricultural. Fall 2009 - College of Life Sciences and Agriculture - University of. ', 'doc_21.txt', 6)\n",
      "(' In 1970 the first seeds of the current conflict. Rights and a new book he had published, called Genocide in Nigeria: The. There is no doubt the killings of the Ogoni leaders were brutal. Just days after the murder, Shell announced that it would press ahead with a. the time is right, start production again said Shell. all for shell - Oil Change International ', 'doc_21.txt', 8)\n",
      "('. are plant- ing the seeds of another economy in our midst?. Since 1998, this solidarity economy approach has developed. and Richard Wolff, for example, have suggested that multiple. namic process of economic organizing in which organizations. plans for de-marketization, he has doubts that it will reach', 'doc_21.txt', 10)\n"
     ]
    }
   ],
   "source": [
    "lst = list(_special_json_chunking(file_path = r\"C:\\Users\\22bcscs055\\Downloads\\mock_data\\doc_21.txt\"))\n",
    "for l in lst:\n",
    "    print(l)"
   ]
  },
  {
   "cell_type": "code",
   "execution_count": 33,
   "id": "4a8d51c8",
   "metadata": {},
   "outputs": [],
   "source": [
    "from typing import Generator, Tuple\n",
    "from nltk.tokenize import sent_tokenize \n",
    "from rag.pipeline import SharedEmbeddingModel\n",
    "from langchain_community.utils.math import cosine_similarity\n",
    "\n",
    "def _semantic_chunking_logic(chunk: str, filename: str, chunk_id: int) -> Generator[Tuple[str, str, int, int], None, None]:\n",
    "    \n",
    "    sentences = []\n",
    "    sentences = [x.strip() for x in sent_tokenize(chunk)]\n",
    "    big_sentences = []\n",
    "    # Combine short sentences\n",
    "    for i in range(len(sentences)):\n",
    "        if i == len(sentences)-1:\n",
    "            big_sentences.append(sentences[i])\n",
    "            break\n",
    "        if len(sentences[i]) < 30:\n",
    "            sentences[i+1] = sentences[i]+ \" \"+ sentences[i+1]\n",
    "        else:\n",
    "            big_sentences.append(sentences[i])\n",
    "\n",
    "    sentences = big_sentences\n",
    "    print(sentences)\n",
    "    embeddings = []\n",
    "    combined_sentences = []\n",
    "    combined_sentences.append(sentences[0])\n",
    "    distances = [0]\n",
    "    for i in range(1,len(sentences)):\n",
    "        combined_sentences.append(sentences[i-1]+sentences[i])\n",
    "    # We combine two sentences to get better context for similarity\n",
    "    for i in range(1,len(sentences)):\n",
    "        embeddings = shared_model.embed_documents(combined_sentences)\n",
    "        current = embeddings[i]\n",
    "        prev = embeddings[i-1]\n",
    "\n",
    "        similarity = cosine_similarity([prev],[current])[0][0]\n",
    "        distances.append(1- similarity)\n",
    "    breakpoint_distance_threshold = 0.25 #[0.20, 0.22, 0.25, 0.28, 0.30, 0.33, 0.35, 0.38, 0.40] # Tuned for BGE embeddings but can be increased a bit\n",
    "    # for j, breakpoint in enumerate(breakpoint_distance_threshold):\n",
    "    print(distances)\n",
    "    j = 0\n",
    "    indices_above_thresh = [i for i,x in enumerate(distances) if x > breakpoint_distance_threshold]\n",
    "    # No breakpoints found - yield as single chunk or split if too large\n",
    "    if len(indices_above_thresh) == 0:\n",
    "        yield (chunk, filename, chunk_id, j)\n",
    "        return\n",
    "    # Creating chunks based on detected breakpoints\n",
    "    o=0\n",
    "    for i in range(len(indices_above_thresh)):\n",
    "        chunk_to_yield = \" \".join(sentences[o:indices_above_thresh[i]])\n",
    "        yield (chunk_to_yield, filename, chunk_id, j)\n",
    "        chunk_id += 1\n",
    "\n",
    "        o = indices_above_thresh[i]\n",
    "        \n",
    "    if o < len(sentences):\n",
    "        chunk_to_yield = \" \".join(sentences[o:len(sentences)])\n",
    "        yield (chunk_to_yield, filename, chunk_id, j)\n",
    "        "
   ]
  },
  {
   "cell_type": "code",
   "execution_count": 34,
   "id": "e6b83c39",
   "metadata": {},
   "outputs": [
    {
     "name": "stdout",
     "output_type": "stream",
     "text": [
      "['Question for written answer E-9590/2010 to the Commission Rule 117 Raül Romeva i Rueda (Verts/ALE) (23 November 2010) Subject: Arms export contract between Spain and Saudi Arabia A few days ago, in the context of a visit to Spain by Prince Khaled bin Sultan, a newspaper report was published on the negotiations between Spain and Saudi Arabia on the sale to the latter of between 200 and 270 Leopard 2E combat vehicles.', 'This, together with the export of at least 20 armoured recovery vehicles, will add up to a contract worth over three billion euros (excluding technical training and maintenance).', 'It is also clear that if this operation is finalised, Spain will be contravening the Council Common Position 2008/944/CFSP of 8 December 2008 on arms exports, defining common rules governing control of exports of military technology and equipment.', 'The content of this Common Position closely follows that of the Code of Conduct which preceded it during nine presidencies before its final adoption.', 'The Common Position outlines the eight criteria to be taken into account before authorising arms sales.', 'These are: (1) respect for international obligations, (2) respect for human rights in the country of final destination, (3) internal situation in the country of final destination, as a function of the existence of tensions or armed conflicts, (4) preservation of regional peace, security and stability, (5) national security of the Member States, (6) behaviour of the buyer country with regard to the international community, (7) existence of a risk of diversion, and (8) compatibility of the exports of the military technology or equipment with the technical and economic capacity of the recipient country.', 'The Common Position further stipulates that another criterion for authorisation may be the economic, social, industrial and commercial interests of the exporting country.', 'With regard to the above, it should be noted that Saudi Arabia does not exactly meet the eight criteria listed; in fact it fails to meet several of them, and if Spain were to go ahead with this contract it would be failing to meet its Community obligations.', 'In view of all the above: Is the Commission informed of this situation?', 'Does the Commission consider that Spain would be failing to comply with Common Position 2008/944/CFSP on control of arms exports?', \"If so, what means will the Commission use to demand Spain's compliance with Community legislation?\"]\n",
      "[0, np.float64(0.01899495520722294), np.float64(0.16718604467150533), np.float64(0.13051730678504736), np.float64(0.18937985287173487), np.float64(0.17508272298090544), np.float64(0.10940926910601856), np.float64(0.18606230152240621), np.float64(0.08736567982795429), np.float64(0.19438484373004283), np.float64(0.05750949709107145)]\n",
      "(\"\\nQuestion for written answer E-9590/2010 to the Commission Rule 117 Raül Romeva i Rueda (Verts/ALE) (23 November 2010) Subject: Arms export contract between Spain and Saudi Arabia A few days ago, in the context of a visit to Spain by Prince Khaled bin Sultan, a newspaper report was published on the negotiations between Spain and Saudi Arabia on the sale to the latter of between 200 and 270 Leopard 2E combat vehicles. This, together with the export of at least 20 armoured recovery vehicles, will add up to a contract worth over three billion euros (excluding technical training and maintenance). It is also clear that if this operation is finalised, Spain will be contravening the Council Common Position 2008/944/CFSP of 8 December 2008 on arms exports, defining common rules governing control of exports of military technology and equipment. The content of this Common Position closely follows that of the Code of Conduct which preceded it during nine presidencies before its final adoption. The Common Position outlines the eight criteria to be taken into account before authorising arms sales. These are: (1) respect for international obligations, (2) respect for human rights in the country of final destination, (3) internal situation in the country of final destination, as a function of the existence of tensions or armed conflicts, (4) preservation of regional peace, security and stability, (5) national security of the Member States, (6) behaviour of the buyer country with regard to the international community, (7) existence of a risk of diversion, and (8) compatibility of the exports of the military technology or equipment with the technical and economic capacity of the recipient country. The Common Position further stipulates that another criterion for authorisation may be the economic, social, industrial and commercial interests of the exporting country. With regard to the above, it should be noted that Saudi Arabia does not exactly meet the eight criteria listed; in fact it fails to meet several of them, and if Spain were to go ahead with this contract it would be failing to meet its Community obligations. In view of all the above: Is the Commission informed of this situation? Does the Commission consider that Spain would be failing to comply with Common Position 2008/944/CFSP on control of arms exports? If so, what means will the Commission use to demand Spain's compliance with Community legislation?\", 'custom text', 0, 0)\n"
     ]
    }
   ],
   "source": [
    "chunk = \"\"\"\n",
    "Question for written answer E-9590/2010 to the Commission Rule 117 Raül Romeva i Rueda (Verts/ALE) (23 November 2010) Subject: Arms export contract between Spain and Saudi Arabia A few days ago, in the context of a visit to Spain by Prince Khaled bin Sultan, a newspaper report was published on the negotiations between Spain and Saudi Arabia on the sale to the latter of between 200 and 270 Leopard 2E combat vehicles. This, together with the export of at least 20 armoured recovery vehicles, will add up to a contract worth over three billion euros (excluding technical training and maintenance). It is also clear that if this operation is finalised, Spain will be contravening the Council Common Position 2008/944/CFSP of 8 December 2008 on arms exports, defining common rules governing control of exports of military technology and equipment. The content of this Common Position closely follows that of the Code of Conduct which preceded it during nine presidencies before its final adoption. The Common Position outlines the eight criteria to be taken into account before authorising arms sales. These are: (1) respect for international obligations, (2) respect for human rights in the country of final destination, (3) internal situation in the country of final destination, as a function of the existence of tensions or armed conflicts, (4) preservation of regional peace, security and stability, (5) national security of the Member States, (6) behaviour of the buyer country with regard to the international community, (7) existence of a risk of diversion, and (8) compatibility of the exports of the military technology or equipment with the technical and economic capacity of the recipient country. The Common Position further stipulates that another criterion for authorisation may be the economic, social, industrial and commercial interests of the exporting country. With regard to the above, it should be noted that Saudi Arabia does not exactly meet the eight criteria listed; in fact it fails to meet several of them, and if Spain were to go ahead with this contract it would be failing to meet its Community obligations. In view of all the above: Is the Commission informed of this situation? Does the Commission consider that Spain would be failing to comply with Common Position 2008/944/CFSP on control of arms exports? If so, what means will the Commission use to demand Spain's compliance with Community legislation?\"\"\"\n",
    "# for sent in sent_tokenize(chunk):\n",
    "#     print(sent)\n",
    "shared_model = SharedEmbeddingModel()\n",
    "shared_model.initialize_model()\n",
    "for chunklet in _semantic_chunking_logic(chunk, \"custom text\", 0):\n",
    "    print(chunklet)"
   ]
  }
 ],
 "metadata": {
  "kernelspec": {
   "display_name": ".venv",
   "language": "python",
   "name": "python3"
  },
  "language_info": {
   "codemirror_mode": {
    "name": "ipython",
    "version": 3
   },
   "file_extension": ".py",
   "mimetype": "text/x-python",
   "name": "python",
   "nbconvert_exporter": "python",
   "pygments_lexer": "ipython3",
   "version": "3.13.7"
  }
 },
 "nbformat": 4,
 "nbformat_minor": 5
}
