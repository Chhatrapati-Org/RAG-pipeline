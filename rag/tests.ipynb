{
 "cells": [
  {
   "cell_type": "code",
   "execution_count": null,
   "id": "397eff02",
   "metadata": {},
   "outputs": [],
   "source": [
    "import re\n",
    "def preprocess_text(text: str) -> str:\n",
    "    \"\"\"Basic text preprocessing to clean and normalize.\"\"\"\n",
    "    text = re.sub(r\"\\[|\\]|\\{|\\}|\\\\n|\\\\\", \" \", text) # remove garbage json symbols \n",
    "    text = re.sub(r\"\\.\\.+\", \"\", text) # remove multiple dots\n",
    "    # text = re.sub(r\"(?<=\\bhttps?://[^\\s]+)(/[^\\s]+)+\", \"\", text) # remove sub domains r\"\\bhttps?://[^\\s]+\\b\" \"(/[^\\s]+)+\"\n",
    "    text = re.sub(r\"<[^>]+>\", \"\", text) # remove HTML tags\n",
    "    text = re.sub(r\":\\s*(null|NULL|Null|None|NONE|none),?\", \" is empty,\", text)  # remove key with null values\n",
    "    text = re.sub(r\": \", \" is \", text) # humanize key-value pairs\n",
    "    text = re.sub(r\"\\s+\", \" \", text)  # Collapse whitespace\n",
    "    text = text.strip()\n",
    "    return text"
   ]
  },
  {
   "cell_type": "code",
   "execution_count": 101,
   "id": "423388e7",
   "metadata": {},
   "outputs": [
    {
     "data": {
      "text/plain": [
       "'in acters of Jane Austen, Charlotte Bronte, Elizabeth Gaskell and George. Eliot.\", \"related_links\" is empty, \"title\" is \"The Triumph of Wit - JStor\" , \"url\" is \"/url?q=http://www.the-criterion.com/V4/n6/Khademi.pdf&sa=U&ved=0ahUKEwjYjsuBsYzQAhXG6iYKHQj-B9cQFgiHAzBi&usg=AFQjCNGIVHhJ8Qh2QR1zbRH5Nix1Blnydw\", \"snippet\" is \"contrapuntal reading of Jane Eyre in order to uncover Charlotte Bronte s subaltern since it is a flexible word for her, as she affirms in an interview is I like the word wedding, she asserts Reader, I married him_ not he married me or even we Although, as discussed above, the last chapter of the novel starts by Jane s\", \"related_links\" is empty, \"title\" is \"PDF - The Criterion\" , \"url\" is \"/url?q=http://kleurrijkbrontesisters.blogspot.com/&sa=U&ved=0ahUKEwjYjsuBsYzQAhXG6iYKHQj-B9cQFgiLAzBj&usg=AFQjCNEV7UGyxb-6w0umQR108JV7ZBTqTA\", \"snippet\" is \"America finally meets Charlotte Bront at The Morgan Library & Museum s Sally Wainwright, who wrote TV hits Happy Valley and Last Tango In Halifax, has and the Arts Council, and will involve high profile writers composing words for the of short stories inspired by that novel s famous line*, Reader, I married him;\", \"related_links\" is empty, \"title\" is \"the Bront Sisters\" , \"air_date\" is \"1999-02-04\", \"question\" is \"The last chapter of this Charlotte Bronte novel begins with the words \"Reader, I married him \"\", \"value\" is \"$600\", \"id\" is 94070, \"answer\" is \"Jane Eyre\", \"round\" is \"Double Jeopardy!\", \"show_number\" is \"3324\"'"
      ]
     },
     "execution_count": 101,
     "metadata": {},
     "output_type": "execute_result"
    }
   ],
   "source": [
    "directory_path = r\"C:\\Users\\22bcscs055\\Downloads\\test_data\\doc_648.txt\"  # Change this to your data directory path\n",
    "output = \"\"\n",
    "with open(directory_path, \"r\", encoding='utf-8') as f:\n",
    "    output = f.read()\n",
    "preprocess_text(output)\n"
   ]
  },
  {
   "cell_type": "code",
   "execution_count": null,
   "id": "2ac4a455",
   "metadata": {},
   "outputs": [
    {
     "name": "stdout",
     "output_type": "stream",
     "text": [
      "b' Center\"}, {\"url\": \"/url?q=http://www.cracked.com/article_15979_the-7-most-terrifying-corporate-masc'\n"
     ]
    }
   ],
   "source": [
    "dir = r\"C:\\Users\\22bcscs055\\Documents\\ps04-rag-v2\\json_file\\out.json\"\n",
    "with open(dir, \"rb\") as f:\n",
    "    f.seek(3680,1)\n",
    "    c = f.read(100)\n",
    "    print(c)"
   ]
  }
 ],
 "metadata": {
  "kernelspec": {
   "display_name": ".venv",
   "language": "python",
   "name": "python3"
  },
  "language_info": {
   "codemirror_mode": {
    "name": "ipython",
    "version": 3
   },
   "file_extension": ".py",
   "mimetype": "text/x-python",
   "name": "python",
   "nbconvert_exporter": "python",
   "pygments_lexer": "ipython3",
   "version": "3.13.7"
  }
 },
 "nbformat": 4,
 "nbformat_minor": 5
}
